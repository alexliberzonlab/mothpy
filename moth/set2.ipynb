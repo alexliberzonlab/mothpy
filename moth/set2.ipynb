{
 "cells": [
  {
   "cell_type": "code",
   "execution_count": 2,
   "metadata": {},
   "outputs": [],
   "source": []
  },
  {
   "cell_type": "raw",
   "metadata": {},
   "source": [
    "this file creates trajectory data\n",
    "note - In this file we only define the relvant function, there is no actual output"
   ]
  },
  {
   "cell_type": "code",
   "execution_count": null,
   "metadata": {},
   "outputs": [],
   "source": [
    "from __future__ import division\n",
    "\n",
    "__authors__ = 'Noam Benelli'\n",
    "import models\n",
    "from simulation import moth_simulation\n",
    "#from statistics import calc_stats\n",
    "import json\n",
    "import copy\n"
   ]
  },
  {
   "cell_type": "raw",
   "metadata": {},
   "source": [
    "The following function is the heart and soul of this file -\n",
    "the waiting, casting and navigating strategies can vary between different navigator groups, but the "
   ]
  },
  {
   "cell_type": "code",
   "execution_count": 3,
   "metadata": {},
   "outputs": [],
   "source": [
    "def call_navigators(wait,cast,nav):\n",
    "        for j in range(10):\n",
    "            for i in range(20):\n",
    "                new_navigator = copy.copy(navigator1)\n",
    "                new_navigator.wait_type = wait\n",
    "                new_navigator.cast_type = cast\n",
    "                new_navigator.nav_type = nav\n",
    "                new_navigator.y = 450 - i*3\n",
    "                new_navigator.x = 499 - j\n",
    "\n",
    "            title =  \\\n",
    "                ' cast - ' + str(new_navigator.cast_type) \\\n",
    "                + '; nav - ' + str(new_navigator.nav_type) \\\n",
    "                + str(len(navigators))\n",
    "                \n",
    "            navigators.append(new_navigator)\n",
    "            navigator_titles.append(title)\n",
    "\n"
   ]
  },
  {
   "cell_type": "code",
   "execution_count": null,
   "metadata": {},
   "outputs": [],
   "source": []
  },
  {
   "cell_type": "code",
   "execution_count": null,
   "metadata": {},
   "outputs": [],
   "source": [
    "def create_trajectory_data(job_file_name = 'job.json',data_file_name ='data.json',\n",
    "                           titles_file_name = 'titles.json'):\n",
    "    with open(job_file_name) as data_file:\n",
    "        cd = json.load(data_file) #constants dictionary\n",
    "    sim_region = models.Rectangle(0., -1., 4., 1.)\n",
    "\n",
    "\n",
    "    #call the base navigator. the competing navigators in the simulation retain\n",
    "    #any parameter of navigator1 that isn't changed\n",
    "    navigator1 = models.moth_modular(sim_region, cd['x_start'], cd['y_start'],cd['nav_type'] , 2, cd['wait_type'])\n",
    "    navigator1.base_turn_angle = cd['base_turn_angle']\n",
    "    navigator1.threshold = cd['threshold']\n",
    "    navigator1.duration = cd['duration']\n",
    "\n",
    "    \n",
    "    #set up a large number of navigators with different properties\n",
    "    navigators = []\n",
    "    navigator_titles = []\n",
    "\n",
    "\n",
    "\n",
    "    \n",
    "    call_navigators(1,2,'alex')\n",
    "    call_navigators(1,3,'alex')\n",
    "    call_navigators(1,'carde2',1)\n",
    "    call_navigators(1,'carde1',1)\n",
    "     \n",
    "    #run the simulation - each navigator runs through the exact same conditions\n",
    "    dict_list = moth_simulation(cd['num_it'],\n",
    "                                navigators,cd['t_max'],cd['char_time'],\n",
    "                                cd['amplitude'], cd['dt'], cd['puff_release_rate'],\n",
    "                                cd['puff_spread_rate'],\n",
    "                                1,\n",
    "                                False)\n",
    "\n",
    "\n",
    "    with open(data_file_name, 'w') as outfile:\n",
    "        json.dump(dict_list, outfile)\n",
    "    return navigator_titles\n",
    "\n"
   ]
  },
  {
   "cell_type": "code",
   "execution_count": null,
   "metadata": {},
   "outputs": [],
   "source": []
  }
 ],
 "metadata": {
  "kernelspec": {
   "display_name": "Python 2",
   "language": "python",
   "name": "python2"
  },
  "language_info": {
   "codemirror_mode": {
    "name": "ipython",
    "version": 2
   },
   "file_extension": ".py",
   "mimetype": "text/x-python",
   "name": "python",
   "nbconvert_exporter": "python",
   "pygments_lexer": "ipython2",
   "version": "2.7.15"
  }
 },
 "nbformat": 4,
 "nbformat_minor": 2
}
