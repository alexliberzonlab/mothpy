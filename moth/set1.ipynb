{
 "cells": [
  {
   "cell_type": "code",
   "execution_count": 3,
   "metadata": {},
   "outputs": [
    {
     "data": {
      "text/plain": [
       "'\\nFirst we \\n'"
      ]
     },
     "execution_count": 3,
     "metadata": {},
     "output_type": "execute_result"
    }
   ],
   "source": [
    "\"\"\"\n",
    "First we \n",
    "\"\"\""
   ]
  },
  {
   "cell_type": "code",
   "execution_count": null,
   "metadata": {},
   "outputs": [],
   "source": [
    "import json\n",
    "def generate_job(char_time =3.5,amplitude =0.1,\n",
    "                 job_file='job.json', puff_release_rate = 10, puff_spread_rate =0.003,\n",
    "                  t_max =75., dt = 0.01,num_it =1, base_duration =0.2):\n",
    "    const_dict={}\n",
    "\n",
    "    #simulation\n",
    "    const_dict['num_it'] = num_it\n",
    "    const_dict['t_max']= t_max\n",
    "    const_dict['dt'] = dt\n",
    "\n",
    "    #wind meandering\n",
    "    const_dict['char_time']=char_time\n",
    "    const_dict['amplitude'] = amplitude\n",
    "\n",
    "    #plume source\n",
    "    const_dict['puff_release_rate'] = puff_release_rate\n",
    "    const_dict['puff_spread_rate'] = puff_spread_rate\n",
    "    \n",
    "\n",
    "    #navigators\n",
    "    const_dict['x_start'] = 100\n",
    "    const_dict['y_start'] = 500\n",
    "    const_dict['nav_type'] = 'alex'\n",
    "    const_dict['wait_type'] = 1\n",
    "    const_dict['base_turn_angle'] = 18 #for crw\n",
    "    const_dict['threshold'] = 500\n",
    "    const_dict['duration'] = base_duration\n",
    "    \n",
    "    \n",
    "\n",
    "    with open(job_file, 'w') as outfile:\n",
    "        json.dump(const_dict, outfile)\n"
   ]
  },
  {
   "cell_type": "code",
   "execution_count": 3,
   "metadata": {},
   "outputs": [],
   "source": []
  },
  {
   "cell_type": "code",
   "execution_count": null,
   "metadata": {},
   "outputs": [],
   "source": []
  },
  {
   "cell_type": "code",
   "execution_count": null,
   "metadata": {},
   "outputs": [],
   "source": []
  }
 ],
 "metadata": {
  "kernelspec": {
   "display_name": "Python 2",
   "language": "python",
   "name": "python2"
  },
  "language_info": {
   "codemirror_mode": {
    "name": "ipython",
    "version": 2
   },
   "file_extension": ".py",
   "mimetype": "text/x-python",
   "name": "python",
   "nbconvert_exporter": "python",
   "pygments_lexer": "ipython2",
   "version": "2.7.15"
  }
 },
 "nbformat": 4,
 "nbformat_minor": 2
}
