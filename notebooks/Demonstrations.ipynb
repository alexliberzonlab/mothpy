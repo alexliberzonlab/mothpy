version https://git-lfs.github.com/spec/v1
oid sha256:0b30183074df5f37e6196bb33b52bc5e8b8ecf01a13dd81730ed3603f14b5cb6
size 5969490
