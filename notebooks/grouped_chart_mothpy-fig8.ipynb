{
 "cells": [
  {
   "cell_type": "code",
   "execution_count": 6,
   "metadata": {},
   "outputs": [],
   "source": [
    "import pandas as pd\n",
    "import numpy as np"
   ]
  },
  {
   "cell_type": "code",
   "execution_count": 7,
   "metadata": {},
   "outputs": [],
   "source": [
    "import matplotlib.pyplot as plt\n",
    "%matplotlib inline"
   ]
  },
  {
   "cell_type": "code",
   "execution_count": 8,
   "metadata": {},
   "outputs": [],
   "source": [
    "d = pd.read_csv('data.csv')"
   ]
  },
  {
   "cell_type": "code",
   "execution_count": 9,
   "metadata": {},
   "outputs": [
    {
     "data": {
      "text/html": [
       "<div>\n",
       "<style scoped>\n",
       "    .dataframe tbody tr th:only-of-type {\n",
       "        vertical-align: middle;\n",
       "    }\n",
       "\n",
       "    .dataframe tbody tr th {\n",
       "        vertical-align: top;\n",
       "    }\n",
       "\n",
       "    .dataframe thead th {\n",
       "        text-align: right;\n",
       "    }\n",
       "</style>\n",
       "<table border=\"1\" class=\"dataframe\">\n",
       "  <thead>\n",
       "    <tr style=\"text-align: right;\">\n",
       "      <th></th>\n",
       "      <th>Success (%)</th>\n",
       "      <th>Unnamed: 1</th>\n",
       "      <th>Unnamed: 2</th>\n",
       "      <th>Unnamed: 3</th>\n",
       "      <th>Unnamed: 4</th>\n",
       "    </tr>\n",
       "  </thead>\n",
       "  <tbody>\n",
       "    <tr>\n",
       "      <th>0</th>\n",
       "      <td>$\\sigma$</td>\n",
       "      <td>A</td>\n",
       "      <td>B</td>\n",
       "      <td>C</td>\n",
       "      <td>D</td>\n",
       "    </tr>\n",
       "    <tr>\n",
       "      <th>1</th>\n",
       "      <td>0.0001</td>\n",
       "      <td>5</td>\n",
       "      <td>26.66666667</td>\n",
       "      <td>30</td>\n",
       "      <td>8.333333333</td>\n",
       "    </tr>\n",
       "    <tr>\n",
       "      <th>2</th>\n",
       "      <td>0.0002</td>\n",
       "      <td>28.33333333</td>\n",
       "      <td>41.66666667</td>\n",
       "      <td>25</td>\n",
       "      <td>3.333333333</td>\n",
       "    </tr>\n",
       "    <tr>\n",
       "      <th>3</th>\n",
       "      <td>0.0003</td>\n",
       "      <td>50</td>\n",
       "      <td>60</td>\n",
       "      <td>10</td>\n",
       "      <td>0</td>\n",
       "    </tr>\n",
       "    <tr>\n",
       "      <th>4</th>\n",
       "      <td>0.0004</td>\n",
       "      <td>15</td>\n",
       "      <td>46.66666667</td>\n",
       "      <td>16.66666667</td>\n",
       "      <td>5</td>\n",
       "    </tr>\n",
       "  </tbody>\n",
       "</table>\n",
       "</div>"
      ],
      "text/plain": [
       "  Success (%)   Unnamed: 1   Unnamed: 2   Unnamed: 3   Unnamed: 4\n",
       "0    $\\sigma$            A            B            C            D\n",
       "1      0.0001            5  26.66666667           30  8.333333333\n",
       "2      0.0002  28.33333333  41.66666667           25  3.333333333\n",
       "3      0.0003           50           60           10            0\n",
       "4      0.0004           15  46.66666667  16.66666667            5"
      ]
     },
     "execution_count": 9,
     "metadata": {},
     "output_type": "execute_result"
    }
   ],
   "source": [
    "success = d.iloc[:5,:]\n",
    "success"
   ]
  },
  {
   "cell_type": "code",
   "execution_count": 10,
   "metadata": {},
   "outputs": [
    {
     "data": {
      "text/html": [
       "<div>\n",
       "<style scoped>\n",
       "    .dataframe tbody tr th:only-of-type {\n",
       "        vertical-align: middle;\n",
       "    }\n",
       "\n",
       "    .dataframe tbody tr th {\n",
       "        vertical-align: top;\n",
       "    }\n",
       "\n",
       "    .dataframe thead th {\n",
       "        text-align: right;\n",
       "    }\n",
       "</style>\n",
       "<table border=\"1\" class=\"dataframe\">\n",
       "  <thead>\n",
       "    <tr style=\"text-align: right;\">\n",
       "      <th></th>\n",
       "      <th>Success (%)</th>\n",
       "      <th>Unnamed: 1</th>\n",
       "      <th>Unnamed: 2</th>\n",
       "      <th>Unnamed: 3</th>\n",
       "      <th>Unnamed: 4</th>\n",
       "    </tr>\n",
       "  </thead>\n",
       "  <tbody>\n",
       "    <tr>\n",
       "      <th>11</th>\n",
       "      <td>$\\sigma$</td>\n",
       "      <td>A</td>\n",
       "      <td>B</td>\n",
       "      <td>C</td>\n",
       "      <td>D</td>\n",
       "    </tr>\n",
       "    <tr>\n",
       "      <th>12</th>\n",
       "      <td>0.0001</td>\n",
       "      <td>4.887143413</td>\n",
       "      <td>4.715937909</td>\n",
       "      <td>3.590885659</td>\n",
       "      <td>3.748193974</td>\n",
       "    </tr>\n",
       "    <tr>\n",
       "      <th>13</th>\n",
       "      <td>0.0002</td>\n",
       "      <td>2.960319089</td>\n",
       "      <td>3.220747161</td>\n",
       "      <td>3.38268667</td>\n",
       "      <td>1.783217374</td>\n",
       "    </tr>\n",
       "    <tr>\n",
       "      <th>14</th>\n",
       "      <td>0.0003</td>\n",
       "      <td>3.490372018</td>\n",
       "      <td>3.482345607</td>\n",
       "      <td>4.297629155</td>\n",
       "      <td>0</td>\n",
       "    </tr>\n",
       "    <tr>\n",
       "      <th>15</th>\n",
       "      <td>0.0004</td>\n",
       "      <td>4.133683542</td>\n",
       "      <td>4.040610653</td>\n",
       "      <td>4.323166829</td>\n",
       "      <td>3.595173112</td>\n",
       "    </tr>\n",
       "  </tbody>\n",
       "</table>\n",
       "</div>"
      ],
      "text/plain": [
       "   Success (%)   Unnamed: 1   Unnamed: 2   Unnamed: 3   Unnamed: 4\n",
       "11    $\\sigma$            A            B            C            D\n",
       "12      0.0001  4.887143413  4.715937909  3.590885659  3.748193974\n",
       "13      0.0002  2.960319089  3.220747161   3.38268667  1.783217374\n",
       "14      0.0003  3.490372018  3.482345607  4.297629155            0\n",
       "15      0.0004  4.133683542  4.040610653  4.323166829  3.595173112"
      ]
     },
     "execution_count": 10,
     "metadata": {},
     "output_type": "execute_result"
    }
   ],
   "source": [
    "tau = d.iloc[-5:,:]\n",
    "tau"
   ]
  },
  {
   "cell_type": "code",
   "execution_count": 11,
   "metadata": {},
   "outputs": [
    {
     "data": {
      "image/png": "[encoded data removed]",
      "text/plain": [
       "<Figure size 720x288 with 2 Axes>"
      ]
     },
     "metadata": {
      "needs_background": "light"
     },
     "output_type": "display_data"
    }
   ],
   "source": [
    "colors = ['black','gray','darkgrey','lightgray']\n",
    "width = 0.000015\n",
    "fig,ax = plt.subplots(1,2,figsize=(10,4))\n",
    "\n",
    "for i in range(4):\n",
    "    ax[0].bar(x=success.iloc[1:,0].values.astype(np.float)+width*i,height=success.iloc[1:,i+1].values.astype(np.float),width=width,color=colors[i])\n",
    "\n",
    "ax[0].set_xticks(tau.iloc[1:,0].values.astype(np.float)+width*2)\n",
    "ax[0].set_xticklabels(tau.iloc[1:,0].values.astype(np.float));\n",
    "ax[0].set_xlabel(r'$\\sigma$',fontsize=16)\n",
    "ax[0].set_ylabel('Success rate',fontsize=16)\n",
    "ax[0].set_ylim([0,80])\n",
    "ax[0].xaxis.grid() # vertical lines\n",
    "ax[0].legend(('A','B','C','D'))\n",
    "\n",
    "\n",
    "for i in range(4):\n",
    "    ax[1].bar(x=tau.iloc[1:,0].values.astype(np.float)+width*i,height=tau.iloc[1:,i+1].values.astype(np.float),width=width,color=colors[i])\n",
    "\n",
    "ax[1].set_xticks(tau.iloc[1:,0].values.astype(np.float)+width*2)\n",
    "ax[1].set_xticklabels(tau.iloc[1:,0].values.astype(np.float));\n",
    "ax[1].set_xlabel(r'$\\sigma$',fontsize=16)\n",
    "ax[1].set_ylabel(r'$\\tau$',fontsize=16)\n",
    "ax[1].set_ylim([0,5.]);\n",
    "ax[1].xaxis.grid() # vertical lines\n",
    "\n",
    "\n",
    "plt.savefig('spread_rate_chart.pdf',dpi=300)"
   ]
  },
  {
   "cell_type": "code",
   "execution_count": null,
   "metadata": {},
   "outputs": [],
   "source": []
  }
 ],
 "metadata": {
  "kernel_info": {
   "name": "moth"
  },
  "kernelspec": {
   "display_name": "mothpy",
   "language": "python",
   "name": "mothpy"
  },
  "language_info": {
   "codemirror_mode": {
    "name": "ipython",
    "version": 2
   },
   "file_extension": ".py",
   "mimetype": "text/x-python",
   "name": "python",
   "nbconvert_exporter": "python",
   "pygments_lexer": "ipython2",
   "version": "2.7.16"
  },
  "nteract": {
   "version": "0.14.5"
  }
 },
 "nbformat": 4,
 "nbformat_minor": 2
}
