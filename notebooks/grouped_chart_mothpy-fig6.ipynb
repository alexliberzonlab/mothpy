{
  "cells": [
    {
      "cell_type": "code",
      "source": [
        "import pandas as pd\n",
        "import numpy as np"
      ],
      "outputs": [],
      "execution_count": 1,
      "metadata": {}
    },
    {
      "cell_type": "code",
      "source": [
        "import matplotlib.pyplot as plt\n",
        "%matplotlib inline"
      ],
      "outputs": [],
      "execution_count": 2,
      "metadata": {}
    },
    {
      "cell_type": "code",
      "source": [
        "d = pd.read_csv('data - amp graph.csv')"
      ],
      "outputs": [],
      "execution_count": 3,
      "metadata": {}
    },
    {
      "cell_type": "code",
      "source": [
        "success = d.iloc[:5,:]\n",
        "success"
      ],
      "outputs": [
        {
          "output_type": "execute_result",
          "execution_count": 4,
          "data": {
            "text/html": [
              "<div>\n",
              "<style scoped>\n",
              "    .dataframe tbody tr th:only-of-type {\n",
              "        vertical-align: middle;\n",
              "    }\n",
              "\n",
              "    .dataframe tbody tr th {\n",
              "        vertical-align: top;\n",
              "    }\n",
              "\n",
              "    .dataframe thead th {\n",
              "        text-align: right;\n",
              "    }\n",
              "</style>\n",
              "<table border=\"1\" class=\"dataframe\">\n",
              "  <thead>\n",
              "    <tr style=\"text-align: right;\">\n",
              "      <th></th>\n",
              "      <th>Success (%)</th>\n",
              "      <th>Unnamed: 1</th>\n",
              "      <th>Unnamed: 2</th>\n",
              "      <th>Unnamed: 3</th>\n",
              "      <th>Unnamed: 4</th>\n",
              "    </tr>\n",
              "  </thead>\n",
              "  <tbody>\n",
              "    <tr>\n",
              "      <th>0</th>\n",
              "      <td>amplitude</td>\n",
              "      <td>A</td>\n",
              "      <td>B</td>\n",
              "      <td>C</td>\n",
              "      <td>D</td>\n",
              "    </tr>\n",
              "    <tr>\n",
              "      <th>1</th>\n",
              "      <td>0</td>\n",
              "      <td>45</td>\n",
              "      <td>56.66666667</td>\n",
              "      <td>15</td>\n",
              "      <td>5</td>\n",
              "    </tr>\n",
              "    <tr>\n",
              "      <th>2</th>\n",
              "      <td>0.05</td>\n",
              "      <td>53.33333333</td>\n",
              "      <td>75</td>\n",
              "      <td>40</td>\n",
              "      <td>31.66666667</td>\n",
              "    </tr>\n",
              "    <tr>\n",
              "      <th>3</th>\n",
              "      <td>0.1</td>\n",
              "      <td>25</td>\n",
              "      <td>48.33333333</td>\n",
              "      <td>28.33333333</td>\n",
              "      <td>3.333333333</td>\n",
              "    </tr>\n",
              "    <tr>\n",
              "      <th>4</th>\n",
              "      <td>0.15</td>\n",
              "      <td>11.66666667</td>\n",
              "      <td>16.66666667</td>\n",
              "      <td>1.666666667</td>\n",
              "      <td>0</td>\n",
              "    </tr>\n",
              "  </tbody>\n",
              "</table>\n",
              "</div>"
            ],
            "text/plain": [
              "  Success (%)   Unnamed: 1   Unnamed: 2   Unnamed: 3   Unnamed: 4\n",
              "0   amplitude            A            B            C            D\n",
              "1           0           45  56.66666667           15            5\n",
              "2        0.05  53.33333333           75           40  31.66666667\n",
              "3         0.1           25  48.33333333  28.33333333  3.333333333\n",
              "4        0.15  11.66666667  16.66666667  1.666666667            0"
            ]
          },
          "metadata": {}
        }
      ],
      "execution_count": 4,
      "metadata": {}
    },
    {
      "cell_type": "code",
      "source": [
        "tau = d.iloc[-5:,:]\n",
        "tau"
      ],
      "outputs": [
        {
          "output_type": "execute_result",
          "execution_count": 5,
          "data": {
            "text/html": [
              "<div>\n",
              "<style scoped>\n",
              "    .dataframe tbody tr th:only-of-type {\n",
              "        vertical-align: middle;\n",
              "    }\n",
              "\n",
              "    .dataframe tbody tr th {\n",
              "        vertical-align: top;\n",
              "    }\n",
              "\n",
              "    .dataframe thead th {\n",
              "        text-align: right;\n",
              "    }\n",
              "</style>\n",
              "<table border=\"1\" class=\"dataframe\">\n",
              "  <thead>\n",
              "    <tr style=\"text-align: right;\">\n",
              "      <th></th>\n",
              "      <th>Success (%)</th>\n",
              "      <th>Unnamed: 1</th>\n",
              "      <th>Unnamed: 2</th>\n",
              "      <th>Unnamed: 3</th>\n",
              "      <th>Unnamed: 4</th>\n",
              "    </tr>\n",
              "  </thead>\n",
              "  <tbody>\n",
              "    <tr>\n",
              "      <th>11</th>\n",
              "      <td>amplitude</td>\n",
              "      <td>A</td>\n",
              "      <td>B</td>\n",
              "      <td>C</td>\n",
              "      <td>D</td>\n",
              "    </tr>\n",
              "    <tr>\n",
              "      <th>12</th>\n",
              "      <td>0</td>\n",
              "      <td>2.742354486</td>\n",
              "      <td>2.600891309</td>\n",
              "      <td>3.116861166</td>\n",
              "      <td>2.358294895</td>\n",
              "    </tr>\n",
              "    <tr>\n",
              "      <th>13</th>\n",
              "      <td>0.05</td>\n",
              "      <td>2.598834678</td>\n",
              "      <td>2.668776905</td>\n",
              "      <td>2.653109265</td>\n",
              "      <td>2.038484219</td>\n",
              "    </tr>\n",
              "    <tr>\n",
              "      <th>14</th>\n",
              "      <td>0.1</td>\n",
              "      <td>2.466962673</td>\n",
              "      <td>3.016474235</td>\n",
              "      <td>3.633892148</td>\n",
              "      <td>2.585198754</td>\n",
              "    </tr>\n",
              "    <tr>\n",
              "      <th>15</th>\n",
              "      <td>0.15</td>\n",
              "      <td>2.084874919</td>\n",
              "      <td>2.671285437</td>\n",
              "      <td>3.29544109</td>\n",
              "      <td>0</td>\n",
              "    </tr>\n",
              "  </tbody>\n",
              "</table>\n",
              "</div>"
            ],
            "text/plain": [
              "   Success (%)   Unnamed: 1   Unnamed: 2   Unnamed: 3   Unnamed: 4\n",
              "11   amplitude            A            B            C            D\n",
              "12           0  2.742354486  2.600891309  3.116861166  2.358294895\n",
              "13        0.05  2.598834678  2.668776905  2.653109265  2.038484219\n",
              "14         0.1  2.466962673  3.016474235  3.633892148  2.585198754\n",
              "15        0.15  2.084874919  2.671285437   3.29544109            0"
            ]
          },
          "metadata": {}
        }
      ],
      "execution_count": 5,
      "metadata": {}
    },
    {
      "cell_type": "code",
      "source": [
        "colors = ['black','gray','darkgrey','lightgray']\n",
        "width = 0.0075\n",
        "fig,ax = plt.subplots(1,2,figsize=(10,4))\n",
        "\n",
        "for i in range(4):\n",
        "    ax[0].bar(x=success.iloc[1:,0].values.astype(np.float)+width*i,height=success.iloc[1:,i+1].values.astype(np.float),width=width,color=colors[i])\n",
        "\n",
        "ax[0].set_xticks(tau.iloc[1:,0].values.astype(np.float)+width*2)\n",
        "ax[0].set_xticklabels(tau.iloc[1:,0].values.astype(np.float));\n",
        "ax[0].set_xlabel(r'$B$',fontsize=16)\n",
        "ax[0].set_ylabel('Success rate',fontsize=16)\n",
        "ax[0].set_ylim([0,80])\n",
        "ax[0].xaxis.grid() # vertical lines\n",
        "ax[0].legend(('A','B','C','D'))\n",
        "\n",
        "\n",
        "for i in range(4):\n",
        "    ax[1].bar(x=tau.iloc[1:,0].values.astype(np.float)+width*i,height=tau.iloc[1:,i+1].values.astype(np.float),width=width,color=colors[i])\n",
        "\n",
        "ax[1].set_xticks(tau.iloc[1:,0].values.astype(np.float)+width*2)\n",
        "ax[1].set_xticklabels(tau.iloc[1:,0].values.astype(np.float));\n",
        "ax[1].set_xlabel(r'$B$',fontsize=16)\n",
        "ax[1].set_ylabel(r'$\\tau$',fontsize=16)\n",
        "ax[1].set_ylim([0,5.]);\n",
        "ax[1].xaxis.grid() # vertical lines\n",
        "\n",
        "\n",
        "plt.savefig('spread_rate_chart.pdf',dpi=300)"
      ],
      "outputs": [
        {
          "output_type": "display_data",
          "data": {
            "image/png": "[encoded data removed]",
            "text/plain": [
              "<Figure size 720x288 with 2 Axes>"
            ]
          },
          "metadata": {
            "needs_background": "light"
          }
        }
      ],
      "execution_count": 7,
      "metadata": {}
    },
    {
      "cell_type": "code",
      "source": [],
      "outputs": [],
      "execution_count": 7,
      "metadata": {}
    }
  ],
  "metadata": {
    "kernel_info": {
      "name": "mothpy"
    },
    "kernelspec": {
      "name": "mothpy",
      "language": "python",
      "display_name": "mothpy"
    },
    "language_info": {
      "mimetype": "text/x-python",
      "nbconvert_exporter": "python",
      "name": "python",
      "pygments_lexer": "ipython2",
      "version": "2.7.16",
      "file_extension": ".py",
      "codemirror_mode": {
        "version": 2,
        "name": "ipython"
      }
    },
    "nteract": {
      "version": "0.14.5"
    }
  },
  "nbformat": 4,
  "nbformat_minor": 2
}