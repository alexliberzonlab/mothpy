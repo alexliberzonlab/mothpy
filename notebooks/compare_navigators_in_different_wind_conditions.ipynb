{
 "cells": [
  {
   "cell_type": "code",
   "execution_count": 3,
   "metadata": {},
   "outputs": [
    {
     "name": "stderr",
     "output_type": "stream",
     "text": [
      "../mothpy/pompy/models.py:459: RuntimeWarning: overflow encountered in multiply\n",
      "  self._Bx * sv_x + self._By * sv_y -\n",
      "../mothpy/pompy/models.py:488: RuntimeWarning: invalid value encountered in subtract\n",
      "  (f[1:-1, 2:] - f[1:-1, 0:-2]) / (2 * self._dy))\n",
      "../mothpy/pompy/models.py:492: RuntimeWarning: invalid value encountered in add\n",
      "  return (f[2:, 1:-1] + f[0:-2, 1:-1]), (f[1:-1, 2:]+f[1:-1, 0:-2])\n",
      "../mothpy/pompy/models.py:456: RuntimeWarning: invalid value encountered in multiply\n",
      "  self._Bx * su_x + self._By * su_y -\n",
      "../mothpy/pompy/models.py:459: RuntimeWarning: invalid value encountered in subtract\n",
      "  self._Bx * sv_x + self._By * sv_y -\n",
      "../mothpy/pompy/models.py:459: RuntimeWarning: invalid value encountered in add\n",
      "  self._Bx * sv_x + self._By * sv_y -\n",
      "../mothpy/pompy/models.py:487: RuntimeWarning: invalid value encountered in subtract\n",
      "  return ((f[2:, 1:-1] - f[0:-2, 1:-1]) / (2 * self._dx),\n"
     ]
    },
    {
     "name": "stdout",
     "output_type": "stream",
     "text": [
      "finished simulation number 1\n",
      "finished simulation number 2\n",
      "finished simulation number 3\n",
      "finished simulation number 4\n"
     ]
    }
   ],
   "source": [
    "# %load compare_navigators_in_different_wind_conditions.py\n",
    "from __future__ import division\n",
    "\n",
    "__authors__ = 'Noam Benelli'\n",
    "\n",
    "import sys\n",
    "sys.path.append('../mothpy')\n",
    "from job_generator import generate_job\n",
    "from casting_competition import create_trajectory_data\n",
    "from graphics_from_file import save_plot, save_detection_plot\n",
    "\n",
    "import pandas as pd\n",
    "\n",
    "\"\"\"\n",
    "generates several job files containing the conditions of the simulations\n",
    "calls upon \"casting competition\" to create trajectory data\n",
    "(each call simulates four navigator types in one plume simulation)\n",
    "plots a single plot for each one\n",
    "\n",
    "\"\"\"\n",
    "\n",
    "if __name__ == \"__main__\":\n",
    "    for i in range(4):\n",
    "        job_file_name = 'job'+ str(i)+ '.pkl'\n",
    "        data_file_name = 'data'+ str(i)+ '.pkl.gz'\n",
    "        const_dict = generate_job(char_time = 1, amplitude = 0.1, job_file = job_file_name,\n",
    "                     t_max = 20, puff_release_rate = 100,\n",
    "                     puff_spread_rate = 0.0001*(1+i),\n",
    "                     dt = 0.1, num_it = 1)\n",
    "        dict_list = create_trajectory_data(const_dict,data_file_name)\n",
    "\n",
    "        df = pd.DataFrame(dict_list)\n",
    "        df.to_pickle(data_file_name)\n",
    "\n",
    "        # title = 'loop ' +str(i) \n",
    "        # save_plot(job_file_name,data_file_name,title,navigator_titles)\n",
    "        #save_detection_plot(job_file_name,data_file_name,navigators_titles)\n",
    "        \n",
    "        print ('finished simulation number ' + str(i+1))\n",
    "\n",
    "      \n"
   ]
  },
  {
   "cell_type": "code",
   "execution_count": null,
   "metadata": {},
   "outputs": [],
   "source": []
  }
 ],
 "metadata": {
  "kernelspec": {
   "display_name": "mothpy3",
   "language": "python",
   "name": "mothpy3"
  },
  "language_info": {
   "codemirror_mode": {
    "name": "ipython",
    "version": 3
   },
   "file_extension": ".py",
   "mimetype": "text/x-python",
   "name": "python",
   "nbconvert_exporter": "python",
   "pygments_lexer": "ipython3",
   "version": "3.7.3"
  }
 },
 "nbformat": 4,
 "nbformat_minor": 2
}
