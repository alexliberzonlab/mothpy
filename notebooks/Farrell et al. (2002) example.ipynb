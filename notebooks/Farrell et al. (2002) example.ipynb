version https://git-lfs.github.com/spec/v1
oid sha256:c58f9623ceaec09d3d52e9239a56f3b3bc9a9356c99698453adc679850b6cd08
size 3108590
